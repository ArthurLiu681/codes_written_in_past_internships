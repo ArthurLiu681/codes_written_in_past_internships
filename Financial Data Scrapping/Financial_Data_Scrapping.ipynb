{
  "nbformat": 4,
  "nbformat_minor": 0,
  "metadata": {
    "colab": {
      "name": "Financial Data Scrapping.ipynb",
      "provenance": [],
      "collapsed_sections": []
    },
    "kernelspec": {
      "name": "python3",
      "display_name": "Python 3"
    }
  },
  "cells": [
    {
      "cell_type": "code",
      "metadata": {
        "id": "tJv4WSUks-a9"
      },
      "source": [
        "! pip install demjson\n",
        "! pip install xlsxwriter\n",
        "import json\n",
        "import urllib.request\n",
        "import pandas as pd\n",
        "import numpy as np\n",
        "import demjson\n",
        "import xlsxwriter"
      ],
      "execution_count": null,
      "outputs": []
    },
    {
      "cell_type": "code",
      "metadata": {
        "id": "pv3bsvhJop7P"
      },
      "source": [
        "def scrapping_eastmoney_kcb_single_year(statement, year, page_numbers):\n",
        "\n",
        "  data_df_year = pd.DataFrame()\n",
        "\n",
        "  for page_number in page_numbers:\n",
        "\n",
        "    print(\"scrapping data in page {}\".format(page_number))\n",
        "\n",
        "    if statement == \"BS\":\n",
        "      url = \"http://datacenter.eastmoney.com/api/data/get?type=RPT_DMSK_FN_BALANCE&sty=ALL&p={}\" \\\n",
        "            \"&ps=50&st=NOTICE_DATE,SECURITY_CODE&sr=-1,-1&var=VqQfOphg&filter=(SECURITY_TYPE_CODE=%22058001001%22)\" \\\n",
        "            \"(TRADE_MARKET_CODE=%22069001001006%22)(REPORT_DATE=%27{}-12-31%27)&rt=53280464\".format(str(page_number), str(year))\n",
        "    elif statement == \"PL\":\n",
        "      url = \"http://datacenter.eastmoney.com/api/data/get?type=RPT_DMSK_FN_INCOME&sty=ALL&p={}\" \\\n",
        "            \"&ps=50&st=NOTICE_DATE,SECURITY_CODE&sr=-1,-1&var=moDdrKXO&filter=(SECURITY_TYPE_CODE=%22058001001%22)\" \\\n",
        "            \"(TRADE_MARKET_CODE=%22069001001006%22)(REPORT_DATE=%27{}-12-31%27)&rt=53280464\".format(str(page_number), str(year))\n",
        "    elif statement == \"RP\":\n",
        "      url = \"http://datacenter.eastmoney.com/api/data/get?type=RPT_LICO_FN_CPD&sty=ALL&p={}\" \\\n",
        "            \"&ps=50&st=UPDATE_DATE,SECURITY_CODE&sr=-1,-1&var=lRYCxRdi&filter=(SECURITY_TYPE_CODE=%22058001001%22)\" \\\n",
        "            \"(TRADE_MARKET_CODE=%22069001001006%22)(REPORTDATE=%27{}-12-31%27)&rt=53280464\".format(str(page_number), str(year))\n",
        "    else:\n",
        "      raise Exception(\"Plese use 'BS' for balance sheet or 'PL' for income statement or 'RP' for achievement report\")\n",
        "\n",
        "    wp = urllib.request.urlopen(url)\n",
        "    data = wp.read().decode(\"utf -8\", \"ignore\")\n",
        "    start_pos = data.index(\"=\")\n",
        "    json_data = demjson.encode(data[start_pos+1:(-1)])\n",
        "    dicti = json.loads(json.loads(json_data))\n",
        "\n",
        "    if str(dicti[\"result\"]) == \"None\":\n",
        "      break\n",
        "    \n",
        "    if statement == \"BS\":\n",
        "      data_df_page = pd.DataFrame(dicti[\"result\"][\"data\"])[[\"SECURITY_CODE\",\"SECURITY_NAME_ABBR\",\"INDUSTRY_NAME\",\"ACCOUNTS_RECE\",\"INVENTORY\",\"TOTAL_EQUITY\",\"CURRENT_RATIO\",\"DEBT_ASSET_RATIO\"]]\n",
        "\n",
        "      print(\"sample page {} data\\n{}\".format(page_number, data_df_page.head()))\n",
        "\n",
        "    elif statement == \"PL\":\n",
        "      data_df_page = pd.DataFrame(dicti[\"result\"][\"data\"])[[\"SECURITY_CODE\",\"PARENT_NETPROFIT\",\"TOTAL_OPERATE_INCOME\",\"OPERATE_PROFIT_RATIO\"]]\n",
        "\n",
        "      print(\"sample page {} data\\n{}\".format(page_number, data_df_page.head()))\n",
        "\n",
        "    else:\n",
        "      data_df_page = pd.DataFrame(dicti[\"result\"][\"data\"])[[\"SECURITY_CODE\",\"WEIGHTAVG_ROE\",\"XSMLL\"]]\n",
        "\n",
        "      print(\"sample page {} data\\n{}\".format(page_number, data_df_page.head()))\n",
        "\n",
        "    data_df_year = data_df_year.append(data_df_page)\n",
        "\n",
        "  print(\"sample year {} data\\n{}\".format(year, data_df_year.head()))\n",
        "  \n",
        "  return data_df_year"
      ],
      "execution_count": null,
      "outputs": []
    },
    {
      "cell_type": "code",
      "metadata": {
        "id": "P4ovDnmcsH-P"
      },
      "source": [
        "def scrapping_eastmoney_kcb_multiple_years(statement, years, page_numbers):\n",
        "\n",
        "  data_df_statement = pd.DataFrame()\n",
        "\n",
        "  for year in years:\n",
        "\n",
        "    print(\"scrapping year {} data\".format(year))\n",
        "\n",
        "    data_df_year = scrapping_eastmoney_kcb_single_year(statement, year, page_numbers)\n",
        "    data_df_year[\"year\"] = year\n",
        "    data_df_statement = data_df_statement.append(data_df_year)\n",
        "  \n",
        "  print(\"sample {}-{} data\\n{}\".format(years[0], years[-1], data_df_statement.head()))\n",
        "  \n",
        "  return data_df_statement"
      ],
      "execution_count": null,
      "outputs": []
    },
    {
      "cell_type": "code",
      "metadata": {
        "id": "sOIqPOfXt1oS"
      },
      "source": [
        "def scrapping_eastmoney_kcb_multiple_statements(years, page_numbers):\n",
        "\n",
        "  print(\"scrapping balance sheet data\")\n",
        "\n",
        "  data_df_bs = scrapping_eastmoney_kcb_multiple_years(\"BS\", years, page_numbers)\n",
        "\n",
        "  print(\"scrapping income statement data\")\n",
        "\n",
        "  data_df_pl = scrapping_eastmoney_kcb_multiple_years(\"PL\", years, page_numbers)\n",
        "\n",
        "  print(\"scrapping achievement report data\")\n",
        "\n",
        "  data_df_rp = scrapping_eastmoney_kcb_multiple_years(\"RP\", years, page_numbers)\n",
        "\n",
        "  df_data =  pd.merge(data_df_bs, data_df_pl, on=[\"SECURITY_CODE\", \"year\"])\n",
        "  df_data =  pd.merge(df_data, data_df_rp, on=[\"SECURITY_CODE\", \"year\"])\n",
        "\n",
        "  print(\"sample combined statements data\\n{}\".format(df_data.head()))\n",
        "\n",
        "  return df_data.sort_values(by=[\"year\", \"SECURITY_CODE\"], ascending=[False, True])"
      ],
      "execution_count": null,
      "outputs": []
    },
    {
      "cell_type": "code",
      "metadata": {
        "id": "DPNdZUxpxj4c"
      },
      "source": [
        "def calculate_indicators(df_data):\n",
        "\n",
        "  df_data = df_data.dropna(axis=0, how=\"any\")\n",
        "\n",
        "  df_data[\"COGS\"] = df_data[\"TOTAL_OPERATE_INCOME\"] * (1 - df_data[\"XSMLL\"]/100)\n",
        "\n",
        "  df_data_indicators_complete = pd.DataFrame()\n",
        "  \n",
        "  indicator_writer = pd.ExcelWriter(\"/content/sample_data/indicators.xlsx\", engine=\"xlsxwriter\")\n",
        "\n",
        "  for year in sorted(list(set(list(df_data[\"year\"])))):\n",
        "    \n",
        "    print(\"calculating year {} indicators\".format(year))\n",
        "\n",
        "    df_data_beginning = df_data[df_data[\"year\"]==year-1][[\"SECURITY_CODE\", \"INVENTORY\", \"ACCOUNTS_RECE\"]].rename(columns={\"INVENTORY\":\"beginning_inventory\", \"ACCOUNTS_RECE\":\"beginning_accounts_rece\"})\n",
        "    df_data_year = pd.merge(df_data[df_data[\"year\"]==year-1], df_data_beginning, on=\"SECURITY_CODE\")\n",
        "\n",
        "    df_data_year[\"inventory_turnover\"] = df_data_year[\"COGS\"] *2 / (df_data_year[\"beginning_inventory\"] + df_data_year[\"INVENTORY\"])\n",
        "    df_data_year[\"accounts_rece_turnover\"] = df_data_year[\"TOTAL_OPERATE_INCOME\"] * 2 / (df_data_year[\"ACCOUNTS_RECE\"] + df_data_year[\"beginning_accounts_rece\"])\n",
        "\n",
        "    df_data_year = df_data_year[[\"SECURITY_CODE\",\"SECURITY_NAME_ABBR\",\"INDUSTRY_NAME\",\"year\",\"OPERATE_PROFIT_RATIO\",\"WEIGHTAVG_ROE\",\"CURRENT_RATIO\",\"DEBT_ASSET_RATIO\",\"accounts_rece_turnover\",\"inventory_turnover\"]]\n",
        "    \n",
        "    df_data_year.to_excel(indicator_writer, sheet_name=str(year), index=False)\n",
        "\n",
        "    df_data_indicators_complete = df_data_indicators_complete.append(df_data_year)\n",
        "\n",
        "  indicator_writer.save()\n",
        "  indicator_writer.close()\n",
        "\n",
        "  return df_data_indicators_complete\n",
        "\n",
        "\n"
      ],
      "execution_count": null,
      "outputs": []
    },
    {
      "cell_type": "code",
      "metadata": {
        "id": "tmgbCYu75oEY"
      },
      "source": [
        "def normalization(df_data):\n",
        "  \n",
        "  indicator_normalized_writer = pd.ExcelWriter(\"/content/sample_data/indicators_normalized.xlsx\", engine=\"xlsxwriter\")\n",
        "\n",
        "  df_data_normalized_complete = pd.DataFrame()\n",
        "\n",
        "  for year in sorted(list(set(list(df_data[\"year\"])))):\n",
        "    df_data_year = df_data[df_data[\"year\"]==year]\n",
        "\n",
        "    df_data_year[\"OPERATE_PROFIT_RATIO_normalized\"] = (df_data_year[\"OPERATE_PROFIT_RATIO\"] - min(df_data_year[\"OPERATE_PROFIT_RATIO\"]) + np.exp(-10)) / (max(df_data_year[\"OPERATE_PROFIT_RATIO\"]) - min(df_data_year[\"OPERATE_PROFIT_RATIO\"]))\n",
        "    df_data_year[\"WEIGHTAVG_ROE_normalized\"] = (df_data_year[\"WEIGHTAVG_ROE\"] - min(df_data_year[\"WEIGHTAVG_ROE\"]) + np.exp(-10)) / (max(df_data_year[\"WEIGHTAVG_ROE\"]) - min(df_data_year[\"WEIGHTAVG_ROE\"]))\n",
        "    df_data_year[\"CURRENT_RATIO_normalized\"] = (df_data_year[\"CURRENT_RATIO\"] - min(df_data_year[\"CURRENT_RATIO\"]) + np.exp(-10)) / (max(df_data_year[\"CURRENT_RATIO\"]) - min(df_data_year[\"CURRENT_RATIO\"]))\n",
        "    df_data_year[\"DEBT_ASSET_RATIO_normalized\"] = (max(df_data_year[\"DEBT_ASSET_RATIO\"]) - df_data_year[\"DEBT_ASSET_RATIO\"] + np.exp(-10)) / (max(df_data_year[\"DEBT_ASSET_RATIO\"]) - min(df_data_year[\"DEBT_ASSET_RATIO\"]))\n",
        "    df_data_year[\"accounts_rece_turnover_normalized\"] = (df_data_year[\"accounts_rece_turnover\"] - min(df_data_year[\"accounts_rece_turnover\"]) + np.exp(-10)) / (max(df_data_year[\"accounts_rece_turnover\"]) - min(df_data_year[\"accounts_rece_turnover\"]))\n",
        "    df_data_year[\"inventory_turnover_normalized\"] = (df_data_year[\"inventory_turnover\"] - min(df_data_year[\"inventory_turnover\"]) + np.exp(-10)) / (max(df_data_year[\"inventory_turnover\"]) - min(df_data_year[\"inventory_turnover\"]))\n",
        "\n",
        "    df_data_year = df_data_year[[\"SECURITY_CODE\",\"year\",\"OPERATE_PROFIT_RATIO_normalized\",\"WEIGHTAVG_ROE_normalized\",\"CURRENT_RATIO_normalized\",\"DEBT_ASSET_RATIO_normalized\",\"accounts_rece_turnover_normalized\",\"inventory_turnover_normalized\"]]\n",
        "    df_data_year.to_excel(indicator_normalized_writer, sheet_name=str(year), index=False)\n",
        "\n",
        "    df_data_normalized_complete = df_data_normalized_complete.append(df_data_year)\n",
        "\n",
        "  indicator_normalized_writer.save()\n",
        "  indicator_normalized_writer.close()\n",
        "\n",
        "  return pd.merge(df_data, df_data_normalized_complete, on=[\"SECURITY_CODE\", \"year\"])"
      ],
      "execution_count": null,
      "outputs": []
    },
    {
      "cell_type": "code",
      "metadata": {
        "id": "jkU_Ipvc6Y-1"
      },
      "source": [
        "def calculate_weights(df_data):\n",
        "  \n",
        "  indicator_weights_writer = pd.ExcelWriter(\"/content/sample_data/indicators_weight.xlsx\", engine=\"xlsxwriter\")\n",
        "\n",
        "  df_data_weights_complete = pd.DataFrame()\n",
        "\n",
        "  for year in sorted(list(set(list(df_data[\"year\"])))):\n",
        "    df_data_year = df_data[df_data[\"year\"]==year]\n",
        "    \n",
        "    df_data_year[\"OPERATE_PROFIT_RATIO_weight\"] = df_data_year[\"OPERATE_PROFIT_RATIO_normalized\"] / sum(df_data_year[\"OPERATE_PROFIT_RATIO_normalized\"])\n",
        "    df_data_year[\"WEIGHTAVG_ROE_weight\"] = df_data_year[\"WEIGHTAVG_ROE_normalized\"] / sum(df_data_year[\"WEIGHTAVG_ROE_normalized\"])\n",
        "    df_data_year[\"CURRENT_RATIO_weight\"] = df_data_year[\"CURRENT_RATIO_normalized\"] / sum(df_data_year[\"CURRENT_RATIO_normalized\"])\n",
        "    df_data_year[\"DEBT_ASSET_RATIO_weight\"] = df_data_year[\"DEBT_ASSET_RATIO_normalized\"] / sum(df_data_year[\"DEBT_ASSET_RATIO_normalized\"])\n",
        "    df_data_year[\"accounts_rece_turnover_weight\"] = df_data_year[\"accounts_rece_turnover_normalized\"] / sum(df_data_year[\"accounts_rece_turnover_normalized\"])\n",
        "    df_data_year[\"inventory_turnover_weight\"] = df_data_year[\"inventory_turnover_normalized\"] / sum(df_data_year[\"inventory_turnover_normalized\"])\n",
        "\n",
        "    df_data_year = df_data_year[[\"SECURITY_CODE\",\"year\",\"OPERATE_PROFIT_RATIO_weight\",\"WEIGHTAVG_ROE_weight\",\"CURRENT_RATIO_weight\",\"DEBT_ASSET_RATIO_weight\",\"accounts_rece_turnover_weight\",\"inventory_turnover_weight\"]]\n",
        "    df_data_year.to_excel(indicator_weights_writer, sheet_name=str(year), index=False)\n",
        "\n",
        "    df_data_weights_complete = df_data_weights_complete.append(df_data_year)\n",
        "\n",
        "  indicator_weights_writer.save()\n",
        "  indicator_weights_writer.close()\n",
        "  \n",
        "  return pd.merge(df_data, df_data_weights_complete, on=[\"SECURITY_CODE\", \"year\"])"
      ],
      "execution_count": null,
      "outputs": []
    },
    {
      "cell_type": "code",
      "metadata": {
        "id": "Nk4MdSQG8Q4W"
      },
      "source": [
        "def calculate_shang(df_data):\n",
        "\n",
        "  shang_writer = pd.ExcelWriter(\"/content/sample_data/shang.xlsx\", engine=\"xlsxwriter\")\n",
        "  df_data_shang_complete = pd.DataFrame()\n",
        "\n",
        "  for year in sorted(list(set(list(df_data[\"year\"])))):\n",
        "    df_data_year = df_data[df_data[\"year\"]==year]\n",
        "    n = len(df_data_year.index)\n",
        "    OPERATE_PROFIT_RATIO_shang_rong = 1 + 1 / np.log(n) * sum(df_data_year[\"OPERATE_PROFIT_RATIO_normalized\"] * np.log(df_data_year[\"OPERATE_PROFIT_RATIO_normalized\"]))\n",
        "    WEIGHTAVG_ROE_shang_rong = 1 + 1 / np.log(n) * sum(df_data_year[\"WEIGHTAVG_ROE_normalized\"] * np.log(df_data_year[\"WEIGHTAVG_ROE_normalized\"]))\n",
        "    CURRENT_RATIO_shang_rong = 1 + 1 / np.log(n) * sum(df_data_year[\"CURRENT_RATIO_normalized\"] * np.log(df_data_year[\"CURRENT_RATIO_normalized\"]))\n",
        "    DEBT_ASSET_RATIO_shang_rong = 1 + 1 / np.log(n) * sum(df_data_year[\"DEBT_ASSET_RATIO_normalized\"] * np.log(df_data_year[\"DEBT_ASSET_RATIO_normalized\"]))\n",
        "    accounts_rece_turnover_shang_rong = 1 + 1 / np.log(n) * sum(df_data_year[\"accounts_rece_turnover_normalized\"] * np.log(df_data_year[\"accounts_rece_turnover_normalized\"]))\n",
        "    inventory_turnover_shang_rong = 1 + 1 / np.log(n) * sum(df_data_year[\"inventory_turnover_normalized\"] * np.log(df_data_year[\"inventory_turnover_normalized\"]))\n",
        "    print(n)\n",
        "    print(np.log(df_data_year[\"OPERATE_PROFIT_RATIO_normalized\"]))\n",
        "    print(sum(df_data_year[\"OPERATE_PROFIT_RATIO_normalized\"] * np.log(df_data_year[\"OPERATE_PROFIT_RATIO_normalized\"])))\n",
        "    print(1 / np.log(n) * sum(df_data_year[\"OPERATE_PROFIT_RATIO_normalized\"] * np.log(df_data_year[\"OPERATE_PROFIT_RATIO_normalized\"])))\n",
        "    print(\"WEIGHTAVG_ROE_shang_rong: {}\".format(WEIGHTAVG_ROE_shang_rong))\n",
        "    total_weight = OPERATE_PROFIT_RATIO_shang_rong + WEIGHTAVG_ROE_shang_rong + CURRENT_RATIO_shang_rong + DEBT_ASSET_RATIO_shang_rong + accounts_rece_turnover_shang_rong + inventory_turnover_shang_rong\n",
        "    OPERATE_PROFIT_RATIO_weight = OPERATE_PROFIT_RATIO_shang_rong / total_weight\n",
        "    WEIGHTAVG_ROE_weight = WEIGHTAVG_ROE_shang_rong / total_weight\n",
        "    CURRENT_RATIO_weight =  CURRENT_RATIO_shang_rong / total_weight\n",
        "    DEBT_ASSET_RATIO_weight = DEBT_ASSET_RATIO_shang_rong / total_weight\n",
        "    accounts_rece_turnover_weight = accounts_rece_turnover_shang_rong / total_weight\n",
        "    inventory_turnover_weight = inventory_turnover_shang_rong / total_weight\n",
        "\n",
        "    df_data_year[\"shang\"] = OPERATE_PROFIT_RATIO_weight * df_data_year[\"OPERATE_PROFIT_RATIO_weight\"] + WEIGHTAVG_ROE_weight * df_data_year[\"WEIGHTAVG_ROE_weight\"] + \\\n",
        "                                CURRENT_RATIO_weight * df_data_year[\"CURRENT_RATIO_weight\"] + DEBT_ASSET_RATIO_weight * df_data_year[\"DEBT_ASSET_RATIO_weight\"] + \\\n",
        "                                accounts_rece_turnover_weight * df_data_year[\"accounts_rece_turnover_weight\"] + inventory_turnover_weight * df_data_year[\"inventory_turnover_weight\"]\n",
        "    \n",
        "    df_data_shang_complete = df_data_shang_complete.append(df_data_year[[\"SECURITY_CODE\",\"SECURITY_NAME_ABBR\",\"INDUSTRY_NAME\",\"year\",\"shang\"]])\n",
        "  \n",
        "  df_data_shang_complete.sort_values(by=[\"SECURITY_CODE\", \"year\"]).to_excel(shang_writer, index=False)\n",
        "\n",
        "  shang_writer.save()\n",
        "  shang_writer.close()"
      ],
      "execution_count": null,
      "outputs": []
    },
    {
      "cell_type": "code",
      "metadata": {
        "id": "mSi5TT1E9Kfi"
      },
      "source": [
        "def main():\n",
        "  DfData = scrapping_eastmoney_kcb_multiple_statements(range(2010, 2020), range(1, 5))\n",
        "  DfData = calculate_indicators(DfData)\n",
        "  DfData = normalization(DfData)\n",
        "  DfData = calculate_weights(DfData)\n",
        "  calculate_shang(DfData)"
      ],
      "execution_count": null,
      "outputs": []
    },
    {
      "cell_type": "code",
      "metadata": {
        "id": "wjqvm4LI-t7O"
      },
      "source": [
        "main()"
      ],
      "execution_count": null,
      "outputs": []
    }
  ]
}