{
  "nbformat": 4,
  "nbformat_minor": 0,
  "metadata": {
    "colab": {
      "name": "sympy.ipynb",
      "provenance": [],
      "collapsed_sections": []
    },
    "kernelspec": {
      "name": "python3",
      "display_name": "Python 3"
    }
  },
  "cells": [
    {
      "cell_type": "code",
      "metadata": {
        "id": "IcMB3zEzTyp7"
      },
      "source": [
        "from sympy import *\r\n",
        "import pandas as pd\r\n",
        "import numpy as np\r\n",
        "from sympy import simplify\r\n",
        "\r\n",
        "# Set up the maximum width to be displayed in a dataframe column\r\n",
        "pd.set_option('display.max_colwidth',None)\r\n",
        "pd.set_option('display.max_columns', None)\r\n",
        "pd.set_option('display.max_rows', None)"
      ],
      "execution_count": 78,
      "outputs": []
    },
    {
      "cell_type": "code",
      "metadata": {
        "id": "_psPoBLaDQKa"
      },
      "source": [
        "def pivot_operation(T, row, column):\r\n",
        "  T[row] *= 1 / T[row, column]\r\n",
        "  nrows = T.shape[0]\r\n",
        "  for i in range(nrows):\r\n",
        "    if i != row:\r\n",
        "      T[i] += T[row] *(-T[i, column])\r\n",
        "  return np.vectorize(simplify)(T)"
      ],
      "execution_count": 86,
      "outputs": []
    },
    {
      "cell_type": "code",
      "metadata": {
        "id": "RyV4V0FGaUbI",
        "colab": {
          "base_uri": "https://localhost:8080/"
        },
        "outputId": "e7a18b42-215c-4725-f132-748d9e5eaa9c"
      },
      "source": [
        "# np.vectorize(function) enables the function to apply element-wise over an array\r\n",
        "# Rational function in Sympy package converts a number into fraction type. \r\n",
        "#   Algebraic expressions resulting from mathmetical operations of fraction types \r\n",
        "#   are displayed automatically in fractions.\r\n",
        "\r\n",
        "M = symbols(\"M\")\r\n",
        "A = np.vectorize(Rational)(np.array([[1,4,2,-1,0,1,0,8],\r\n",
        "                                     [3,2,0,0,-1,0,1,6],\r\n",
        "                                     [2,3,1,0,0,0,0,0]]))\r\n",
        "M_variables = [5, 6]\r\n",
        "index = range(3)  \r\n",
        "for variable in M_variables:\r\n",
        "  A[-1, 5] += M\r\n",
        "  A[-1, 6] += M\r\n",
        "print(pd.DataFrame(A))"
      ],
      "execution_count": 88,
      "outputs": [
        {
          "output_type": "stream",
          "text": [
            "   0  1  2   3   4    5    6  7\n",
            "0  1  4  2  -1   0    1    0  8\n",
            "1  3  2  0   0  -1    0    1  6\n",
            "2  2  3  1   0   0  2*M  2*M  0\n"
          ],
          "name": "stdout"
        }
      ]
    },
    {
      "cell_type": "code",
      "metadata": {
        "colab": {
          "base_uri": "https://localhost:8080/"
        },
        "id": "4Tn3sMBY8nB6",
        "outputId": "420d93d3-c5a8-4733-a48c-24e03f2147f5"
      },
      "source": [
        "row = 0\r\n",
        "column = 5\r\n",
        "\r\n",
        "T = A\r\n",
        "T = pivot_operation(T, row, column)\r\n",
        "T1 = T\r\n",
        "print(pd.DataFrame(T1))"
      ],
      "execution_count": 89,
      "outputs": [
        {
          "output_type": "stream",
          "text": [
            "         0        1        2    3   4  5    6      7\n",
            "0        1        4        2   -1   0  1    0      8\n",
            "1        3        2        0    0  -1  0    1      6\n",
            "2  2 - 2*M  3 - 8*M  1 - 4*M  2*M   0  0  2*M  -16*M\n"
          ],
          "name": "stdout"
        }
      ]
    },
    {
      "cell_type": "code",
      "metadata": {
        "colab": {
          "base_uri": "https://localhost:8080/"
        },
        "id": "NyV-mJkLEhJC",
        "outputId": "c05423d2-c0dd-4cb4-cb18-481e8c1879a0"
      },
      "source": [
        "row = 1\r\n",
        "column = 6\r\n",
        "\r\n",
        "T = T1\r\n",
        "T = pivot_operation(T, row, column)\r\n",
        "T2 = T\r\n",
        "print(pd.DataFrame(T2))"
      ],
      "execution_count": 90,
      "outputs": [
        {
          "output_type": "stream",
          "text": [
            "         0         1        2    3    4  5  6      7\n",
            "0        1         4        2   -1    0  1  0      8\n",
            "1        3         2        0    0   -1  0  1      6\n",
            "2  2 - 8*M  3 - 12*M  1 - 4*M  2*M  2*M  0  0  -28*M\n"
          ],
          "name": "stdout"
        }
      ]
    },
    {
      "cell_type": "code",
      "metadata": {
        "colab": {
          "base_uri": "https://localhost:8080/"
        },
        "id": "LRNEVrv-KO1v",
        "outputId": "7ac7b954-d1e7-4397-ee27-1a381281f866"
      },
      "source": [
        "row = 1\r\n",
        "column = 0\r\n",
        "\r\n",
        "T = T2\r\n",
        "T = pivot_operation(T, row, column)\r\n",
        "T3 = T\r\n",
        "print(pd.DataFrame(T3))"
      ],
      "execution_count": 91,
      "outputs": [
        {
          "output_type": "stream",
          "text": [
            "   0             1        2    3            4  5            6          7\n",
            "0  0          10/3        2   -1          1/3  1         -1/3          6\n",
            "1  1           2/3        0    0         -1/3  0          1/3          2\n",
            "2  0  5/3 - 20*M/3  1 - 4*M  2*M  2/3 - 2*M/3  0  8*M/3 - 2/3  -12*M - 4\n"
          ],
          "name": "stdout"
        }
      ]
    },
    {
      "cell_type": "code",
      "metadata": {
        "colab": {
          "base_uri": "https://localhost:8080/"
        },
        "id": "MJKswfJEYZkx",
        "outputId": "f70b4dff-b9ab-44d5-a8c4-213ddb407111"
      },
      "source": [
        "row = 0\r\n",
        "column = 2\r\n",
        "\r\n",
        "T = T3\r\n",
        "T = pivot_operation(T, row, column)\r\n",
        "T4 = T\r\n",
        "print(pd.DataFrame(T4))"
      ],
      "execution_count": 92,
      "outputs": [
        {
          "output_type": "stream",
          "text": [
            "   0    1  2     3     4          5          6   7\n",
            "0  0  5/3  1  -1/2   1/6        1/2       -1/6   3\n",
            "1  1  2/3  0     0  -1/3          0        1/3   2\n",
            "2  0    0  0   1/2   1/2  2*M - 1/2  2*M - 1/2  -7\n"
          ],
          "name": "stdout"
        }
      ]
    },
    {
      "cell_type": "code",
      "metadata": {
        "colab": {
          "base_uri": "https://localhost:8080/"
        },
        "id": "_5T9vh4JZ1ep",
        "outputId": "5d498b9e-acda-4458-d0c1-f10908478e8f"
      },
      "source": [
        "row = 0\r\n",
        "column = 1\r\n",
        "\r\n",
        "T = T4\r\n",
        "T = pivot_operation(T, row, column)\r\n",
        "T5 = T\r\n",
        "print(pd.DataFrame(T5))"
      ],
      "execution_count": 93,
      "outputs": [
        {
          "output_type": "stream",
          "text": [
            "   0  1     2      3     4          5          6    7\n",
            "0  0  1   3/5  -3/10  1/10       3/10      -1/10  9/5\n",
            "1  1  0  -2/5    1/5  -2/5       -1/5        2/5  4/5\n",
            "2  0  0     0    1/2   1/2  2*M - 1/2  2*M - 1/2   -7\n"
          ],
          "name": "stdout"
        }
      ]
    }
  ]
}